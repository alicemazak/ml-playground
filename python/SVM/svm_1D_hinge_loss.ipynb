{
 "cells": [
  {
   "cell_type": "markdown",
   "metadata": {},
   "source": [
    "### One dimensional example for hInge loss"
   ]
  },
  {
   "cell_type": "code",
   "execution_count": 1,
   "metadata": {
    "collapsed": true
   },
   "outputs": [],
   "source": [
    "from sklearn.linear_model import Ridge, RidgeClassifier, LinearRegression\n",
    "from sklearn import svm\n",
    "import matplotlib.pyplot as plt\n",
    "import numpy as np\n",
    "import sklearn \n",
    "from sklearn.preprocessing import LabelBinarizer\n",
    "%matplotlib inline\n",
    "from ipywidgets import *"
   ]
  },
  {
   "cell_type": "code",
   "execution_count": 6,
   "metadata": {
    "collapsed": false
   },
   "outputs": [
    {
     "data": {
      "text/plain": [
       "8"
      ]
     },
     "execution_count": 6,
     "metadata": {},
     "output_type": "execute_result"
    }
   ],
   "source": [
    "y = (False, False, False, True, True, True)\n",
    "yc = (-1,-1,-1,1,1,1)\n",
    "X = (1,2,3,4,5,8)\n",
    "X = np.reshape(X,(len(X),1))\n",
    "X.shape\n",
    "X.max()"
   ]
  },
  {
   "cell_type": "code",
   "execution_count": 12,
   "metadata": {
    "collapsed": false
   },
   "outputs": [
    {
     "data": {
      "image/png": "[encoded data removed]",
      "text/plain": [
       "<matplotlib.figure.Figure at 0x7fbfa6324d68>"
      ]
     },
     "metadata": {},
     "output_type": "display_data"
    }
   ],
   "source": [
    "def plot_func(C):\n",
    "    rc = RidgeClassifier(alpha=0) #For alpha=0 we get the same result as for linear regression\n",
    "    rc.fit(X=X, y=y)\n",
    "    \n",
    "    xvals = np.reshape(np.linspace(0,X.max(),20),(-1,1))\n",
    "    dec_func_rc = rc.decision_function(xvals)\n",
    "    plt.plot(xvals, dec_func_rc, 'b')\n",
    "    plt.scatter(X, yc, c=(np.asarray(yc)), cmap=plt.cm.coolwarm)\n",
    "    \n",
    "   \n",
    "    sv = svm.LinearSVC(C=C)\n",
    "    sv.fit(X=X, y=y)\n",
    "    svm_dec_func = sv.decision_function(xvals)\n",
    "    plt.plot(xvals, svm_dec_func, 'g-')\n",
    "\n",
    "    \n",
    "    plt.show()\n",
    "    \n",
    "interact(plot_func, C=FloatSlider(value=1, min=0.1, max=100, step=0.5))"
   ]
  },
  {
   "cell_type": "code",
   "execution_count": null,
   "metadata": {
    "collapsed": true
   },
   "outputs": [],
   "source": []
  }
 ],
 "metadata": {
  "kernelspec": {
   "display_name": "Python 3",
   "language": "python",
   "name": "python3"
  },
  "language_info": {
   "codemirror_mode": {
    "name": "ipython",
    "version": 3
   },
   "file_extension": ".py",
   "mimetype": "text/x-python",
   "name": "python",
   "nbconvert_exporter": "python",
   "pygments_lexer": "ipython3",
   "version": "3.4.3"
  },
  "widgets": {
   "state": {
    "d09e0686189e4005b4823a6d00001b37": {
     "views": [
      {
       "cell_index": 3
      }
     ]
    }
   },
   "version": "1.2.0"
  }
 },
 "nbformat": 4,
 "nbformat_minor": 2
}
