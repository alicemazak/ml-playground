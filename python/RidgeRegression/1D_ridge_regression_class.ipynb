{
 "cells": [
  {
   "cell_type": "markdown",
   "metadata": {
    "deletable": true,
    "editable": true,
    "slideshow": {
     "slide_type": "subslide"
    }
   },
   "source": [
    "## 1-D Classification\n",
    "\n",
    "This examples shows how to use linear regression, or ridge regression as a classifier.\n",
    "\n",
    "In the binary case the RidgeClassifier in sklearn works as follows:\n",
    "\n",
    "* The classes are transformed to $y = \\pm 1$\n",
    "* A straight line in fit to the data.\n",
    "* Prediction: if predicted value > 0 then class 1 "
   ]
  },
  {
   "cell_type": "code",
   "execution_count": 1,
   "metadata": {
    "collapsed": false,
    "deletable": true,
    "editable": true,
    "slideshow": {
     "slide_type": "slide"
    }
   },
   "outputs": [],
   "source": [
    "from sklearn.linear_model import Ridge, RidgeClassifier, LinearRegression\n",
    "from sklearn import svm\n",
    "import matplotlib.pyplot as plt\n",
    "import numpy as np\n",
    "import sklearn \n",
    "from sklearn.preprocessing import LabelBinarizer\n",
    "%matplotlib inline\n",
    "from ipywidgets import *"
   ]
  },
  {
   "cell_type": "code",
   "execution_count": 2,
   "metadata": {
    "collapsed": false,
    "deletable": true,
    "editable": true,
    "slideshow": {
     "slide_type": "slide"
    }
   },
   "outputs": [],
   "source": [
    "# Simple 1-D Dataset\n",
    "y = (-1,-1,-1,1,1,1)\n",
    "X = np.reshape((1,2,3,4,5,8),(-1,1)) # 6x1 dimensional"
   ]
  },
  {
   "cell_type": "code",
   "execution_count": 3,
   "metadata": {
    "collapsed": false
   },
   "outputs": [
    {
     "data": {
      "text/plain": [
       "array([1])"
      ]
     },
     "execution_count": 3,
     "metadata": {},
     "output_type": "execute_result"
    }
   ],
   "source": [
    "rc = RidgeClassifier(0.1)\n",
    "rc.fit(X, y)\n",
    "rc.predict(10)"
   ]
  },
  {
   "cell_type": "code",
   "execution_count": 4,
   "metadata": {
    "collapsed": false,
    "deletable": true,
    "editable": true,
    "slideshow": {
     "slide_type": "slide"
    }
   },
   "outputs": [],
   "source": [
    "def plot_func(alpha):\n",
    "    # The Data\n",
    "    plt.scatter(X, y, c=(np.asarray(y)), cmap=plt.cm.coolwarm)\n",
    "    # Fitting the classifier\n",
    "    rc = RidgeClassifier(alpha=alpha) #For alpha=0 we get the same result as for linear regression\n",
    "    rc.fit(X=X, y=y)\n",
    "    # Creating some predictions\n",
    "    xvals = np.reshape(np.linspace(min(X),max(X),20),(-1,1))\n",
    "    dec_func_rc = rc.decision_function(xvals)\n",
    "    plt.plot(xvals, dec_func_rc, 'b')\n",
    "    \n",
    "    # Linear Regression for coparison\n",
    "    lr = LinearRegression() \n",
    "    lr.fit(X=X, y=y)\n",
    "    lr_dec_func = lr.predict(xvals)\n",
    "    plt.plot(xvals, lr_dec_func, 'g-.')\n",
    "        \n",
    "    plt.show()"
   ]
  },
  {
   "cell_type": "markdown",
   "metadata": {
    "deletable": true,
    "editable": true
   },
   "source": [
    "Linear Regression should be the $\\alpha \\rightarrow 0$ limit."
   ]
  },
  {
   "cell_type": "code",
   "execution_count": 5,
   "metadata": {
    "collapsed": false,
    "deletable": true,
    "editable": true,
    "scrolled": true,
    "slideshow": {
     "slide_type": "slide"
    }
   },
   "outputs": [
    {
     "data": {
      "image/png": "[encoded data removed]",
      "text/plain": [
       "<matplotlib.figure.Figure at 0x7f2a40f5a518>"
      ]
     },
     "metadata": {},
     "output_type": "display_data"
    },
    {
     "data": {
      "text/plain": [
       "<function __main__.plot_func>"
      ]
     },
     "execution_count": 5,
     "metadata": {},
     "output_type": "execute_result"
    }
   ],
   "source": [
    "interact(plot_func, alpha=FloatSlider(value=1, min=0, max=10, step=0.5))"
   ]
  },
  {
   "cell_type": "markdown",
   "metadata": {
    "deletable": true,
    "editable": true
   },
   "source": [
    "#### For Comparison SVM"
   ]
  },
  {
   "cell_type": "code",
   "execution_count": 6,
   "metadata": {
    "collapsed": false,
    "deletable": true,
    "editable": true
   },
   "outputs": [
    {
     "data": {
      "text/plain": [
       "<matplotlib.collections.PathCollection at 0x7f2a3ee45e10>"
      ]
     },
     "execution_count": 6,
     "metadata": {},
     "output_type": "execute_result"
    },
    {
     "data": {
      "image/png": "[encoded data removed]",
      "text/plain": [
       "<matplotlib.figure.Figure at 0x7f2a3ee45eb8>"
      ]
     },
     "metadata": {},
     "output_type": "display_data"
    }
   ],
   "source": [
    "sv = svm.LinearSVC(C=1e10)\n",
    "sv.fit(X=X, y=y)\n",
    "\n",
    "xvals = np.reshape(np.linspace(0,max(X),20),(-1,1))\n",
    "svm_dec_func = sv.decision_function(xvals)\n",
    "plt.plot(xvals, svm_dec_func, 'g-')\n",
    "plt.scatter(X, y, c=(np.asarray(y)), cmap=plt.cm.coolwarm)\n",
    "    "
   ]
  }
 ],
 "metadata": {
  "kernelspec": {
   "display_name": "Python 3",
   "language": "python",
   "name": "python3"
  },
  "language_info": {
   "codemirror_mode": {
    "name": "ipython",
    "version": 3
   },
   "file_extension": ".py",
   "mimetype": "text/x-python",
   "name": "python",
   "nbconvert_exporter": "python",
   "pygments_lexer": "ipython3",
   "version": "3.4.3"
  },
  "widgets": {
   "state": {
    "5f520aa5b197436382cc615bf8d7ce7a": {
     "views": [
      {
       "cell_index": 6
      }
     ]
    },
    "92dbd224e3504d7fbfeb7c06d69fd482": {
     "views": [
      {
       "cell_index": 6
      }
     ]
    }
   },
   "version": "1.2.0"
  }
 },
 "nbformat": 4,
 "nbformat_minor": 2
}
