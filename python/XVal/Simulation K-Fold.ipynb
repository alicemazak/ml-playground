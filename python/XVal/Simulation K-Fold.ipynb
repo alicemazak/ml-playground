{
 "cells": [
  {
   "cell_type": "markdown",
   "metadata": {},
   "source": [
    "# A notebook on the variance of the XValidation procedure\n",
    "In this notebook we try to experimentally confirm the statement that LOO has a higher variance than k-Fold crossvaldatin ($k <N$)"
   ]
  },
  {
   "cell_type": "code",
   "execution_count": 174,
   "metadata": {
    "collapsed": false
   },
   "outputs": [
    {
     "name": "stdout",
     "output_type": "stream",
     "text": [
      "Populating the interactive namespace from numpy and matplotlib\n"
     ]
    },
    {
     "name": "stderr",
     "output_type": "stream",
     "text": [
      "WARNING: pylab import has clobbered these variables: ['test']\n",
      "`%matplotlib` prevents importing * from pylab and numpy\n"
     ]
    }
   ],
   "source": [
    "import numpy as np\n",
    "import matplotlib.pyplot as plt\n",
    "from sklearn import svm\n",
    "from sklearn import cross_validation\n",
    "from sklearn.cross_validation import KFold\n",
    "%pylab inline"
   ]
  },
  {
   "cell_type": "code",
   "execution_count": 218,
   "metadata": {
    "collapsed": true
   },
   "outputs": [],
   "source": [
    "N_half = 50\n",
    "N = 2*N_half #Number of examples\n",
    "p = 10"
   ]
  },
  {
   "cell_type": "markdown",
   "metadata": {},
   "source": [
    "### Creation of the training data\n",
    "In this case we now that there is nothing to do and the true error is 50%."
   ]
  },
  {
   "cell_type": "code",
   "execution_count": 219,
   "metadata": {
    "collapsed": false
   },
   "outputs": [],
   "source": [
    "def makeData():\n",
    "    X = np.random.normal(size=(N,p))\n",
    "    y = np.repeat((-1,1),N_half)\n",
    "    # Since KFold(N, n_folds) does no permutation of the indices, we do it here\n",
    "    y = y[np.random.permutation(N)]\n",
    "#---- Adding a possibility for an error rate > 10\n",
    "#     for i in range(N):\n",
    "#         if y[i] < 0:\n",
    "#             X[i,1] += 2.2 # We add a bit of a offset\n",
    "    return X,y"
   ]
  },
  {
   "cell_type": "markdown",
   "metadata": {},
   "source": [
    "## Estimation of the error using a single data-set"
   ]
  },
  {
   "cell_type": "code",
   "execution_count": 220,
   "metadata": {
    "collapsed": false
   },
   "outputs": [],
   "source": [
    "def one_round_XVal(X,y, n_folds):\n",
    "    # LOO_XVal\n",
    "    kf = KFold(N, n_folds=n_folds)\n",
    "    acc = 0.0\n",
    "    rounds = 0.0\n",
    "    for train, test in kf:\n",
    "        model = svm.SVC(kernel='linear', C=0.5).fit(X[train,],y[train])\n",
    "        res = model.predict(X[test])\n",
    "        acc += sum(res == y[test])/float(len(test)) #Accuracy\n",
    "        rounds += 1.0\n",
    "    return acc / rounds"
   ]
  },
  {
   "cell_type": "markdown",
   "metadata": {},
   "source": [
    "### Takeing several runs\n",
    "\n",
    "Each crossvalidation run provides an estimate for the error. We know that the error should be 50%, so let's take a few runs and see what X-validation procedure suggests. "
   ]
  },
  {
   "cell_type": "code",
   "execution_count": 221,
   "metadata": {
    "collapsed": false
   },
   "outputs": [
    {
     "name": "stdout",
     "output_type": "stream",
     "text": [
      "(0.42999999999999999, 0.46000000000000008)\n",
      "(0.44, 0.47000000000000003)\n",
      "(0.46999999999999997, 0.49000000000000005)\n"
     ]
    }
   ],
   "source": [
    "for i in range(3):\n",
    "    X,y = makeData()\n",
    "    print(one_round_XVal(X,y, N), one_round_XVal(X,y, 5)) "
   ]
  },
  {
   "cell_type": "markdown",
   "metadata": {},
   "source": [
    "Each run has a different accuracy estimate. We take serveral runs and record the estimates.\n",
    "## The Averge over many runs"
   ]
  },
  {
   "cell_type": "code",
   "execution_count": 230,
   "metadata": {
    "collapsed": false
   },
   "outputs": [],
   "source": [
    "runs = 1000\n",
    "acc_loo = np.zeros(runs)\n",
    "acc_10 = np.zeros(runs)\n",
    "acc_5 = np.zeros(runs)\n",
    "acc_2 = np.zeros(runs)\n",
    "\n",
    "from IPython.html.widgets import FloatProgress\n",
    "from IPython.display import display\n",
    "from time import sleep\n",
    "f = FloatProgress(min=0, max=runs)\n",
    "display(f)\n",
    "\n",
    "for i in range(runs):\n",
    "    f.value = i\n",
    "    X,y = makeData()\n",
    "    acc_loo[i] = one_round_XVal(X,y, N)\n",
    "    acc_10[i] = one_round_XVal(X,y, 10)\n",
    "    acc_5[i] = one_round_XVal(X,y, 5)\n",
    "    acc_2[i] = one_round_XVal(X,y, 2)"
   ]
  },
  {
   "cell_type": "code",
   "execution_count": 231,
   "metadata": {
    "collapsed": false
   },
   "outputs": [
    {
     "data": {
      "text/plain": [
       "(0.48820999999999998,\n",
       " 0.48697000000000001,\n",
       " 0.48663999999999996,\n",
       " 0.48819000000000007)"
      ]
     },
     "execution_count": 231,
     "metadata": {},
     "output_type": "execute_result"
    }
   ],
   "source": [
    "np.mean(acc_loo), np.mean(acc_10), np.mean(acc_5), np.mean(acc_2)"
   ]
  },
  {
   "cell_type": "code",
   "execution_count": 232,
   "metadata": {
    "collapsed": false
   },
   "outputs": [
    {
     "data": {
      "text/plain": [
       "(0.079737669266163019,\n",
       " 0.070241861450277637,\n",
       " 0.065349142305006588,\n",
       " 0.059610602244902722)"
      ]
     },
     "execution_count": 232,
     "metadata": {},
     "output_type": "execute_result"
    }
   ],
   "source": [
    "np.std(acc_loo), np.std(acc_10), np.std(acc_5), np.std(acc_2)"
   ]
  },
  {
   "cell_type": "markdown",
   "metadata": {},
   "source": [
    "## Variance\n",
    "There is a slight (significant?) difference in variance. It seems that LOO has a higher variance. Note that due to construction, we do not foresee a bias. While LOO has in general a higher variance the bias is in generall smaller. This is due to the fact that for LOO the model in each split is trained with $N-1$ classifiers. While in K=2 fold cross validation each classifier trained with only $N/2$ examples. $K=10$ is often considered as a good tradeoff between the two extremes. The amount of bias depends on the learning rate of the classifiers, see e.g. chapter 7.10 in elements of statistical learning."
   ]
  },
  {
   "cell_type": "code",
   "execution_count": 233,
   "metadata": {
    "collapsed": false
   },
   "outputs": [
    {
     "data": {
      "image/png": "[encoded data removed]",
      "text/plain": [
       "<matplotlib.figure.Figure at 0x1144b0f90>"
      ]
     },
     "metadata": {},
     "output_type": "display_data"
    }
   ],
   "source": [
    "pylab.rcParams['figure.figsize'] = (12.0, 3.0)\n",
    "plt.subplot(131)\n",
    "plt.hist(acc_loo)\n",
    "plt.title(\"LOO\")\n",
    "plt.xlabel(\"Acc\")\n",
    "plt.ylabel(\"Frequency\")\n",
    "\n",
    "plt.subplot(132)\n",
    "plt.hist(acc_10)\n",
    "plt.title(\"10 Fold XVal\")\n",
    "plt.xlabel(\"Acc\")\n",
    "plt.ylabel(\"Frequency\")\n",
    "\n",
    "plt.subplot(133)\n",
    "plt.hist(acc_5)\n",
    "plt.title(\"5 Fold Xval\")\n",
    "plt.xlabel(\"Acc\")\n",
    "plt.ylabel(\"Frequency\")\n",
    "plt.show()"
   ]
  },
  {
   "cell_type": "code",
   "execution_count": null,
   "metadata": {
    "collapsed": true
   },
   "outputs": [],
   "source": []
  }
 ],
 "metadata": {
  "kernelspec": {
   "display_name": "Python 2",
   "language": "python",
   "name": "python2"
  },
  "language_info": {
   "codemirror_mode": {
    "name": "ipython",
    "version": 2
   },
   "file_extension": ".py",
   "mimetype": "text/x-python",
   "name": "python",
   "nbconvert_exporter": "python",
   "pygments_lexer": "ipython2",
   "version": "2.7.6"
  }
 },
 "nbformat": 4,
 "nbformat_minor": 0
}
