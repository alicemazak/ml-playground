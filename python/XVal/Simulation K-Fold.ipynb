{
 "cells": [
  {
   "cell_type": "markdown",
   "metadata": {},
   "source": [
    "# A notebook on the variance of the XValidation procedure\n",
    "In this notebook we try to experimentally confirm the statement that LOO has a higher variance than k-Fold crossvaldatin ($k <N$)"
   ]
  },
  {
   "cell_type": "code",
   "execution_count": 1,
   "metadata": {
    "collapsed": false
   },
   "outputs": [
    {
     "name": "stdout",
     "output_type": "stream",
     "text": [
      "Populating the interactive namespace from numpy and matplotlib\n"
     ]
    }
   ],
   "source": [
    "import numpy as np\n",
    "import matplotlib.pyplot as plt\n",
    "from sklearn import svm\n",
    "from sklearn import cross_validation\n",
    "from sklearn.cross_validation import KFold\n",
    "%pylab inline"
   ]
  },
  {
   "cell_type": "code",
   "execution_count": 2,
   "metadata": {
    "collapsed": true
   },
   "outputs": [],
   "source": [
    "N_half = 50\n",
    "N = 2*N_half #Number of examples\n",
    "p = 10"
   ]
  },
  {
   "cell_type": "markdown",
   "metadata": {},
   "source": [
    "### Creation of the training data\n",
    "In this case we now that there is nothing to do and the true error is 50%."
   ]
  },
  {
   "cell_type": "code",
   "execution_count": 3,
   "metadata": {
    "collapsed": false
   },
   "outputs": [],
   "source": [
    "def makeData():\n",
    "    X = np.random.normal(size=(N,p))\n",
    "    y = np.repeat((-1,1),N_half)\n",
    "    # Since KFold(N, n_folds) does no permutation of the indices, we do it here\n",
    "    y = y[np.random.permutation(N)]\n",
    "#---- Adding a possibility for an error rate > 50%\n",
    "#     for i in range(N):\n",
    "#         if y[i] < 0:\n",
    "#             X[i,1] += 2.2 # We add a bit of a offset\n",
    "    return X,y"
   ]
  },
  {
   "cell_type": "markdown",
   "metadata": {},
   "source": [
    "## Estimation of the error using a single data-set"
   ]
  },
  {
   "cell_type": "code",
   "execution_count": 4,
   "metadata": {
    "collapsed": false
   },
   "outputs": [],
   "source": [
    "def one_round_XVal(X,y, n_folds):\n",
    "    kf = KFold(N, n_folds=n_folds)\n",
    "    acc = 0.0\n",
    "    rounds = 0.0\n",
    "    for train, test in kf:\n",
    "        model = svm.SVC(kernel='linear', C=0.5).fit(X[train,],y[train])\n",
    "        res = model.predict(X[test])\n",
    "        acc += sum(res == y[test])/float(len(test)) #Accuracy\n",
    "        rounds += 1.0\n",
    "    return acc / rounds"
   ]
  },
  {
   "cell_type": "markdown",
   "metadata": {},
   "source": [
    "### Takeing several runs\n",
    "\n",
    "Each crossvalidation run provides an estimate for the error. We know that the error should be 50%, so let's take a few runs and see what X-validation procedure suggests. "
   ]
  },
  {
   "cell_type": "code",
   "execution_count": 5,
   "metadata": {
    "collapsed": false
   },
   "outputs": [
    {
     "name": "stdout",
     "output_type": "stream",
     "text": [
      "(0.51000000000000001, 0.53000000000000003)\n",
      "(0.45000000000000001, 0.48000000000000009)\n",
      "(0.60999999999999999, 0.5)\n"
     ]
    }
   ],
   "source": [
    "for i in range(3):\n",
    "    X,y = makeData()\n",
    "    print(one_round_XVal(X,y, N), one_round_XVal(X,y, 5)) "
   ]
  },
  {
   "cell_type": "markdown",
   "metadata": {},
   "source": [
    "Each run has a different accuracy estimate. We take serveral runs and record the estimates.\n",
    "## The Averge over many runs"
   ]
  },
  {
   "cell_type": "code",
   "execution_count": 6,
   "metadata": {
    "collapsed": false
   },
   "outputs": [
    {
     "name": "stderr",
     "output_type": "stream",
     "text": [
      ":0: FutureWarning: IPython widgets are experimental and may change in the future.\n"
     ]
    }
   ],
   "source": [
    "runs = 1000\n",
    "acc_loo = np.zeros(runs)\n",
    "acc_10 = np.zeros(runs)\n",
    "acc_5 = np.zeros(runs)\n",
    "acc_2 = np.zeros(runs)\n",
    "\n",
    "from IPython.html.widgets import FloatProgress\n",
    "from IPython.display import display\n",
    "from time import sleep\n",
    "f = FloatProgress(min=0, max=runs)\n",
    "display(f)\n",
    "\n",
    "for i in range(runs):\n",
    "    f.value = i\n",
    "    X,y = makeData()\n",
    "    acc_loo[i] = one_round_XVal(X,y, N)\n",
    "    acc_10[i] = one_round_XVal(X,y, 10)\n",
    "    acc_5[i] = one_round_XVal(X,y, 5)\n",
    "    acc_2[i] = one_round_XVal(X,y, 2)"
   ]
  },
  {
   "cell_type": "code",
   "execution_count": 7,
   "metadata": {
    "collapsed": false
   },
   "outputs": [
    {
     "data": {
      "text/plain": [
       "(0.48805999999999999,\n",
       " 0.48849999999999999,\n",
       " 0.48931000000000002,\n",
       " 0.49041000000000007)"
      ]
     },
     "execution_count": 7,
     "metadata": {},
     "output_type": "execute_result"
    }
   ],
   "source": [
    "np.mean(acc_loo), np.mean(acc_10), np.mean(acc_5), np.mean(acc_2)"
   ]
  },
  {
   "cell_type": "code",
   "execution_count": 13,
   "metadata": {
    "collapsed": false
   },
   "outputs": [
    {
     "data": {
      "text/plain": [
       "(0.078455314670199366,\n",
       " 0.067240984525808373,\n",
       " 0.061938872285504203,\n",
       " 0.057710760695038506)"
      ]
     },
     "execution_count": 13,
     "metadata": {},
     "output_type": "execute_result"
    }
   ],
   "source": [
    "np.std(acc_loo), np.std(acc_10), np.std(acc_5), np.std(acc_2)"
   ]
  },
  {
   "cell_type": "markdown",
   "metadata": {},
   "source": [
    "## Variance\n",
    "There is a slight (significant?) difference in variance. It seems that LOO has a higher variance. Note that due to construction, we do not foresee a bias. While LOO has in general a higher variance the bias is in generall smaller. This is due to the fact that for LOO the model in each split is trained with $N-1$ classifiers. While in K=2 fold cross validation each classifier trained with only $N/2$ examples. $K=10$ is often considered as a good tradeoff between the two extremes. The amount of bias depends on the learning rate of the classifiers, see e.g. chapter 7.10 in elements of statistical learning."
   ]
  },
  {
   "cell_type": "code",
   "execution_count": 11,
   "metadata": {
    "collapsed": false
   },
   "outputs": [
    {
     "data": {
      "image/png": "[encoded data removed]",
      "text/plain": [
       "<matplotlib.figure.Figure at 0x10ea85110>"
      ]
     },
     "metadata": {},
     "output_type": "display_data"
    }
   ],
   "source": [
    "pylab.rcParams['figure.figsize'] = (12.0, 3.0)\n",
    "plt.subplot(141)\n",
    "plt.hist(acc_loo)\n",
    "plt.title(\"LOO\")\n",
    "plt.xlabel(\"Acc\")\n",
    "plt.ylabel(\"Frequency\")\n",
    "plt.xlim((0.2,0.8))\n",
    "\n",
    "plt.subplot(142)\n",
    "plt.hist(acc_10)\n",
    "plt.title(\"10 Fold XVal\")\n",
    "plt.xlabel(\"Acc\")\n",
    "plt.ylabel(\"Frequency\")\n",
    "plt.xlim((0.2,0.8))\n",
    "\n",
    "plt.subplot(143)\n",
    "plt.hist(acc_5)\n",
    "plt.title(\"5 Fold Xval\")\n",
    "plt.xlabel(\"Acc\")\n",
    "plt.ylabel(\"Frequency\")\n",
    "plt.xlim((0.2,0.8))\n",
    "\n",
    "plt.subplot(144)\n",
    "plt.hist(acc_2)\n",
    "plt.title(\"2 Fold Xval\")\n",
    "plt.xlabel(\"Acc\")\n",
    "plt.ylabel(\"Frequency\")\n",
    "plt.xlim((0.2,0.8))\n",
    "\n",
    "plt.show()"
   ]
  }
 ],
 "metadata": {
  "kernelspec": {
   "display_name": "Python 2",
   "language": "python",
   "name": "python2"
  },
  "language_info": {
   "codemirror_mode": {
    "name": "ipython",
    "version": 2
   },
   "file_extension": ".py",
   "mimetype": "text/x-python",
   "name": "python",
   "nbconvert_exporter": "python",
   "pygments_lexer": "ipython2",
   "version": "2.7.6"
  }
 },
 "nbformat": 4,
 "nbformat_minor": 0
}
