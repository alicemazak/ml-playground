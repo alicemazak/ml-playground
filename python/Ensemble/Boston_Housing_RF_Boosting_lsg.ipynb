{
 "cells": [
  {
   "cell_type": "markdown",
   "metadata": {
    "deletable": true,
    "editable": true
   },
   "source": [
    "## Boston housing RF and Boosting "
   ]
  },
  {
   "cell_type": "code",
   "execution_count": 1,
   "metadata": {
    "collapsed": false,
    "deletable": true,
    "editable": true
   },
   "outputs": [],
   "source": [
    "import numpy as np\n",
    "import matplotlib.pyplot as plt\n",
    "\n",
    "from sklearn import ensemble\n",
    "from sklearn import datasets\n",
    "from sklearn.utils import shuffle\n",
    "from sklearn.metrics import mean_squared_error\n",
    "import matplotlib.pyplot as plt\n",
    "%matplotlib inline"
   ]
  },
  {
   "cell_type": "markdown",
   "metadata": {
    "deletable": true,
    "editable": true
   },
   "source": [
    "### Loading of the data\n",
    "Load the Boston Housing data set via:"
   ]
  },
  {
   "cell_type": "code",
   "execution_count": 2,
   "metadata": {
    "collapsed": false,
    "deletable": true,
    "editable": true
   },
   "outputs": [
    {
     "data": {
      "text/plain": [
       "(5.0, 50.0)"
      ]
     },
     "execution_count": 2,
     "metadata": {},
     "output_type": "execute_result"
    }
   ],
   "source": [
    "boston = datasets.load_boston()\n",
    "np.random.seed(42) #For reproducable splits of the data\n",
    "X, y_ = shuffle(boston.data, boston.target, random_state=42)\n",
    "np.min(y_),np.max(y_) "
   ]
  },
  {
   "cell_type": "code",
   "execution_count": 3,
   "metadata": {
    "collapsed": false,
    "deletable": true,
    "editable": true
   },
   "outputs": [
    {
     "data": {
      "text/plain": [
       "(506, 13)"
      ]
     },
     "execution_count": 3,
     "metadata": {},
     "output_type": "execute_result"
    }
   ],
   "source": [
    "boston.data.shape"
   ]
  },
  {
   "cell_type": "markdown",
   "metadata": {
    "deletable": true,
    "editable": true
   },
   "source": [
    "### Splitting the data / creation of catgeorical data\n",
    "\n",
    "The variable `y` is a numerical variable ranging from 5 to 50. For classification one needs first to transform it into a categorical variable. \n",
    "\n",
    "a) Transform the numerical variable into a 0,1 variable by assiging all values, which are larger than the the median to 1 the rest to 0. Split the data randomly into a training set 90 percent and a test set. "
   ]
  },
  {
   "cell_type": "code",
   "execution_count": 4,
   "metadata": {
    "collapsed": false,
    "deletable": true,
    "editable": true
   },
   "outputs": [],
   "source": [
    "### <---- Your code here -------->\n",
    "y = np.zeros_like(y_, dtype='int32')\n",
    "y[y_ > np.median(y_)] = 1\n",
    "\n",
    "X = X.astype(np.float32)\n",
    "offset = int(X.shape[0] * 0.9)\n",
    "X_train, y_train = X[:offset], y[:offset]\n",
    "X_test, y_test = X[offset:], y[offset:]"
   ]
  },
  {
   "cell_type": "markdown",
   "metadata": {
    "deletable": true,
    "editable": true
   },
   "source": [
    "b) Train a random forest with 100 trees on the training data set and calculte the OOB-Error. Calculate the error on the test set."
   ]
  },
  {
   "cell_type": "code",
   "execution_count": 5,
   "metadata": {
    "collapsed": false,
    "deletable": true,
    "editable": true
   },
   "outputs": [
    {
     "data": {
      "text/plain": [
       "0.87692307692307692"
      ]
     },
     "execution_count": 5,
     "metadata": {},
     "output_type": "execute_result"
    }
   ],
   "source": [
    "### <---- Your code here -------->\n",
    "from sklearn.ensemble import RandomForestClassifier \n",
    "rf = RandomForestClassifier(n_estimators=500, oob_score=True)\n",
    "rf.fit(X_train,y_train)\n",
    "rf.oob_score_"
   ]
  },
  {
   "cell_type": "code",
   "execution_count": 6,
   "metadata": {
    "collapsed": false,
    "deletable": true,
    "editable": true
   },
   "outputs": [
    {
     "data": {
      "text/plain": [
       "0.88235294117647056"
      ]
     },
     "execution_count": 6,
     "metadata": {},
     "output_type": "execute_result"
    }
   ],
   "source": [
    "np.mean(rf.predict(X_test) == y_test)"
   ]
  },
  {
   "cell_type": "markdown",
   "metadata": {
    "deletable": true,
    "editable": true
   },
   "source": [
    "c) Train a gradient boosting classificator similar to b). Use `clf = ensemble.GradientBoostingClassifier` and the exponential loss for Adaboost."
   ]
  },
  {
   "cell_type": "code",
   "execution_count": 7,
   "metadata": {
    "collapsed": false,
    "deletable": true,
    "editable": true
   },
   "outputs": [
    {
     "data": {
      "text/plain": [
       "(0.84313725490196079, 0.96483516483516485)"
      ]
     },
     "execution_count": 7,
     "metadata": {},
     "output_type": "execute_result"
    }
   ],
   "source": [
    "n_estimators  = 1000   # Number of steps, same as number of trees B. Start with 1000\n",
    "learning_rate =  0.1  # The shrinkage parameter lambda start with 0.1\n",
    "max_depth = 1         # The number of splits in each tree\n",
    "\n",
    "#clf = ensemble.GradientBoostingClassifier(...\n",
    "### <---- Your code here -------->\n",
    "clf = ensemble.GradientBoostingClassifier(n_estimators=n_estimators, \n",
    "                                          learning_rate=learning_rate, \n",
    "                                          loss='exponential', \n",
    "                                          max_depth=max_depth)\n",
    "clf.fit(X_train, y_train)\n",
    "np.mean(clf.predict(X_test) == y_test), np.mean(clf.predict(X_train) == y_train)"
   ]
  },
  {
   "cell_type": "markdown",
   "metadata": {
    "deletable": true,
    "editable": true
   },
   "source": [
    "d) Optimize the parameters of the gradient boosting classifier. You might use the following code to monitor the loss during training. Keep max_depth constant and vary the learning rate and n_estimators. You should get a accuracy on the training set of of about > 90%."
   ]
  },
  {
   "cell_type": "code",
   "execution_count": 8,
   "metadata": {
    "collapsed": false,
    "deletable": true,
    "editable": true
   },
   "outputs": [
    {
     "data": {
      "text/plain": [
       "<matplotlib.text.Text at 0x7f0e8b92c3c8>"
      ]
     },
     "execution_count": 8,
     "metadata": {},
     "output_type": "execute_result"
    },
    {
     "data": {
      "image/png": "[encoded data removed]",
      "text/plain": [
       "<matplotlib.figure.Figure at 0x7f0e8d9876a0>"
      ]
     },
     "metadata": {},
     "output_type": "display_data"
    }
   ],
   "source": [
    "# compute test set deviance\n",
    "test_score = np.zeros((n_estimators,), dtype=np.float64)\n",
    "\n",
    "for i, y_pred in enumerate(clf.staged_predict(X_test)):\n",
    "    test_score[i] = clf.loss_(y_test, y_pred)\n",
    "\n",
    "plt.title('Loss')\n",
    "plt.plot(np.arange(n_estimators)+1, clf.train_score_, 'b-',\n",
    "         label='Training Set Loss')\n",
    "plt.plot(np.arange(n_estimators) + 1, test_score, 'r-',\n",
    "         label='Test Set Loss')\n",
    "plt.legend(loc='lower left')\n",
    "plt.xlabel('Boosting Iterations')\n",
    "plt.ylabel('Loss')"
   ]
  },
  {
   "cell_type": "markdown",
   "metadata": {
    "deletable": true,
    "editable": true
   },
   "source": [
    "### Optional \n",
    "\n",
    "e) The importance of feature can be displayed as follows."
   ]
  },
  {
   "cell_type": "code",
   "execution_count": 9,
   "metadata": {
    "collapsed": false,
    "deletable": true,
    "editable": true
   },
   "outputs": [
    {
     "data": {
      "image/png": "[encoded data removed]",
      "text/plain": [
       "<matplotlib.figure.Figure at 0x7f0e8b8abb38>"
      ]
     },
     "metadata": {},
     "output_type": "display_data"
    }
   ],
   "source": [
    "feature_importance = clf.feature_importances_\n",
    "#feature_importance = rf.feature_importances_\n",
    "# make importances relative to max importance\n",
    "feature_importance = 100.0 * (feature_importance / feature_importance.max())\n",
    "sorted_idx = np.argsort(feature_importance)\n",
    "pos = np.arange(sorted_idx.shape[0]) + .5\n",
    "plt.subplot(1, 2, 2)\n",
    "plt.barh(pos, feature_importance[sorted_idx], align='center')\n",
    "plt.yticks(pos, boston.feature_names[sorted_idx])\n",
    "plt.xlabel('Relative Importance')\n",
    "plt.title('Variable Importance')\n",
    "plt.show()"
   ]
  },
  {
   "cell_type": "markdown",
   "metadata": {
    "collapsed": true,
    "deletable": true,
    "editable": true
   },
   "source": [
    "### Train a boosting regressor [optional]\n",
    "\n",
    "f) Boosting can also be used for regression by using regression trees. A typical loss would be the least square loss (loss = 'ls'). Fit ensemble.GradientBoostingRegressor with loss='ls' to the training data. Do a prediction on the test set and calculate the mean squarred error (MSE) on the training data.   "
   ]
  },
  {
   "cell_type": "code",
   "execution_count": 10,
   "metadata": {
    "collapsed": true,
    "deletable": true,
    "editable": true
   },
   "outputs": [],
   "source": [
    "y_train_num = y_[:offset]\n",
    "y_test_num = y_[offset:]"
   ]
  },
  {
   "cell_type": "code",
   "execution_count": 19,
   "metadata": {
    "collapsed": false,
    "deletable": true,
    "editable": true
   },
   "outputs": [
    {
     "name": "stdout",
     "output_type": "stream",
     "text": [
      "MSE: 5.9346\n"
     ]
    }
   ],
   "source": [
    "# <-- Your code here \n",
    "clf = ensemble.GradientBoostingRegressor(n_estimators=n_estimators, \n",
    "                                          learning_rate=learning_rate, \n",
    "                                          loss='ls', \n",
    "                                          max_depth=4)\n",
    "\n",
    "clf.fit(X_train, y_train_num)\n",
    "y_hat = clf.predict(X_test)\n",
    "mse = np.mean((y_hat - y_test_num)**2)\n",
    "# <-- Your code here \n",
    "\n",
    "print(\"MSE: %.4f\" % mse)"
   ]
  },
  {
   "cell_type": "code",
   "execution_count": 20,
   "metadata": {
    "collapsed": false,
    "deletable": true,
    "editable": true
   },
   "outputs": [
    {
     "data": {
      "text/plain": [
       "<matplotlib.text.Text at 0x7f0e8b7e7208>"
      ]
     },
     "execution_count": 20,
     "metadata": {},
     "output_type": "execute_result"
    },
    {
     "data": {
      "image/png": "[encoded data removed]",
      "text/plain": [
       "<matplotlib.figure.Figure at 0x7f0e8d9d7ef0>"
      ]
     },
     "metadata": {},
     "output_type": "display_data"
    }
   ],
   "source": [
    "# compute test set deviance\n",
    "test_score = np.zeros((n_estimators,), dtype=np.float64)\n",
    "\n",
    "for i, y_pred in enumerate(clf.staged_predict(X_test)):\n",
    "    test_score[i] = clf.loss_(y_test_num, y_pred)\n",
    "\n",
    "plt.title('Loss')\n",
    "plt.plot(np.arange(n_estimators)+1, clf.train_score_, 'b-',\n",
    "         label='Training Set Loss')\n",
    "plt.plot(np.arange(n_estimators) + 1, test_score, 'r-',\n",
    "         label='Test Set Loss')\n",
    "plt.legend(loc='upper right')\n",
    "plt.xlabel('Boosting Iterations')\n",
    "plt.ylabel('Loss')"
   ]
  },
  {
   "cell_type": "markdown",
   "metadata": {},
   "source": [
    "g) Use a Randomforest as regressor, what is the MSE."
   ]
  },
  {
   "cell_type": "code",
   "execution_count": 22,
   "metadata": {
    "collapsed": false
   },
   "outputs": [
    {
     "name": "stdout",
     "output_type": "stream",
     "text": [
      "MSE: 8.6239\n"
     ]
    }
   ],
   "source": [
    "clf = ensemble.RandomForestRegressor(n_estimators=500, oob_score=True)\n",
    "\n",
    "clf.fit(X_train, y_train_num)\n",
    "y_hat = clf.predict(X_test)\n",
    "mse = np.mean((y_hat - y_test_num)**2)\n",
    "# <-- Your code here \n",
    "\n",
    "print(\"MSE: %.4f\" % mse)"
   ]
  },
  {
   "cell_type": "markdown",
   "metadata": {
    "deletable": true,
    "editable": true
   },
   "source": [
    "### Comparison with linear regression"
   ]
  },
  {
   "cell_type": "code",
   "execution_count": 23,
   "metadata": {
    "collapsed": false,
    "deletable": true,
    "editable": true
   },
   "outputs": [
    {
     "name": "stdout",
     "output_type": "stream",
     "text": [
      "MSE: 26.3274\n"
     ]
    }
   ],
   "source": [
    "from sklearn import linear_model\n",
    "reg = linear_model.LinearRegression()\n",
    "reg.fit(X_train, y_train_num)\n",
    "y_hat = reg.predict(X_test)\n",
    "mse = np.mean((y_hat - y_test_num)**2)\n",
    "print(\"MSE: %.4f\" % mse)"
   ]
  },
  {
   "cell_type": "code",
   "execution_count": null,
   "metadata": {
    "collapsed": true
   },
   "outputs": [],
   "source": []
  }
 ],
 "metadata": {
  "kernelspec": {
   "display_name": "Python 3",
   "language": "python",
   "name": "python3"
  },
  "language_info": {
   "codemirror_mode": {
    "name": "ipython",
    "version": 3
   },
   "file_extension": ".py",
   "mimetype": "text/x-python",
   "name": "python",
   "nbconvert_exporter": "python",
   "pygments_lexer": "ipython3",
   "version": "3.4.3"
  }
 },
 "nbformat": 4,
 "nbformat_minor": 1
}
